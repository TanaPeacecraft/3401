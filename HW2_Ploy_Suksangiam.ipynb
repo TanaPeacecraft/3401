{
  "nbformat": 4,
  "nbformat_minor": 0,
  "metadata": {
    "colab": {
      "provenance": [],
      "authorship_tag": "ABX9TyPduz6FEacEc7b07mAndP9w",
      "include_colab_link": true
    },
    "kernelspec": {
      "name": "python3",
      "display_name": "Python 3"
    },
    "language_info": {
      "name": "python"
    }
  },
  "cells": [
    {
      "cell_type": "markdown",
      "metadata": {
        "id": "view-in-github",
        "colab_type": "text"
      },
      "source": [
        "<a href=\"https://colab.research.google.com/github/UTA-PYTHON/3401/blob/main/HW2_Ploy_Suksangiam.ipynb\" target=\"_parent\"><img src=\"https://colab.research.google.com/assets/colab-badge.svg\" alt=\"Open In Colab\"/></a>"
      ]
    },
    {
      "cell_type": "markdown",
      "source": [
        "# **1.Bold and**\n",
        "\n",
        "Write a sentence where one word is in bold and another is in italics\n",
        "\n",
        "*  **My name is** *Ploy*"
      ],
      "metadata": {
        "id": "orNLI4LROvGr"
      }
    },
    {
      "cell_type": "markdown",
      "source": [
        "**2.Headers**\n",
        "\n",
        "Create a hierarchy of headers from # (largest) to ### (smallest). Make up titles for each header level.\n",
        "\n",
        "\n",
        "\n",
        "#Header 1\n",
        "##Header 2\n",
        "###Header 3"
      ],
      "metadata": {
        "id": "04Cgh91VPZpD"
      }
    },
    {
      "cell_type": "markdown",
      "source": [
        "#**3.Lists**\n",
        "\n",
        "Create a bulleted list of your three favorite fruits\n",
        "\n",
        "\n",
        "* Mangosteen\n",
        "* Pineapple\n",
        "* Kiwi"
      ],
      "metadata": {
        "id": "Iw5NSvklPxDe"
      }
    },
    {
      "cell_type": "markdown",
      "source": [
        "\n",
        "\n",
        "---\n",
        "\n",
        "\n",
        "\n",
        "---\n",
        "\n"
      ],
      "metadata": {
        "id": "lzFJ_SkqQU9Z"
      }
    },
    {
      "cell_type": "markdown",
      "source": [
        "#**Part 2: Python Basics**\n",
        "\n",
        "# 1.Variable Assignment\n",
        "\n",
        "\n",
        "\n",
        "\n"
      ],
      "metadata": {
        "id": "kvLNu6_DQXwF"
      }
    },
    {
      "cell_type": "code",
      "source": [
        "a=5"
      ],
      "metadata": {
        "id": "4j8lRa7bQmvO"
      },
      "execution_count": 1,
      "outputs": []
    },
    {
      "cell_type": "code",
      "source": [
        "b=10"
      ],
      "metadata": {
        "id": "TpOYqM3yQqtF"
      },
      "execution_count": 2,
      "outputs": []
    },
    {
      "cell_type": "code",
      "source": [
        "c=a+b"
      ],
      "metadata": {
        "id": "L6RP-FXHRBDu"
      },
      "execution_count": 5,
      "outputs": []
    },
    {
      "cell_type": "code",
      "source": [
        "c"
      ],
      "metadata": {
        "colab": {
          "base_uri": "https://localhost:8080/"
        },
        "id": "bQH2Xl_lRE5F",
        "outputId": "a670e2a0-95be-42b3-83f9-f22817cfa63a"
      },
      "execution_count": 6,
      "outputs": [
        {
          "output_type": "execute_result",
          "data": {
            "text/plain": [
              "15"
            ]
          },
          "metadata": {},
          "execution_count": 6
        }
      ]
    },
    {
      "cell_type": "code",
      "source": [
        "print(c)"
      ],
      "metadata": {
        "colab": {
          "base_uri": "https://localhost:8080/"
        },
        "id": "qp7GEo_xRIsl",
        "outputId": "f6b38d18-a9ab-41fc-dc24-6e511521fa6a"
      },
      "execution_count": 7,
      "outputs": [
        {
          "output_type": "stream",
          "name": "stdout",
          "text": [
            "15\n"
          ]
        }
      ]
    },
    {
      "cell_type": "markdown",
      "source": [
        "#2.PEMDAS\n",
        "\n",
        "#Given the equation 6+2×(5−32)+4/2:\n",
        "* ### Solve the equation step-by-step, following the PEMDAS order, and comment each step in the Jupyter cell."
      ],
      "metadata": {
        "id": "t987iS4XROVC"
      }
    },
    {
      "cell_type": "code",
      "source": [
        "(6+2)*(5-32)+(4/2)"
      ],
      "metadata": {
        "colab": {
          "base_uri": "https://localhost:8080/"
        },
        "id": "9wVyoTiORRoC",
        "outputId": "77f40c3e-1cf0-493b-b976-c5ccda934447"
      },
      "execution_count": 8,
      "outputs": [
        {
          "output_type": "execute_result",
          "data": {
            "text/plain": [
              "-214.0"
            ]
          },
          "metadata": {},
          "execution_count": 8
        }
      ]
    },
    {
      "cell_type": "markdown",
      "source": [
        "* ### Compute the final answer using Python and display the result.\n",
        "\n",
        "\n"
      ],
      "metadata": {
        "id": "N6o-l1FiSDt2"
      }
    },
    {
      "cell_type": "code",
      "source": [
        "result=(6+2)*(5-32)+(4/2)"
      ],
      "metadata": {
        "id": "E6etsBIASXXD"
      },
      "execution_count": 9,
      "outputs": []
    },
    {
      "cell_type": "code",
      "source": [
        "print(result)"
      ],
      "metadata": {
        "colab": {
          "base_uri": "https://localhost:8080/"
        },
        "id": "diNyDbbkS7ZI",
        "outputId": "95cf8c27-3467-470d-c606-9b06562b5c69"
      },
      "execution_count": 10,
      "outputs": [
        {
          "output_type": "stream",
          "name": "stdout",
          "text": [
            "-214.0\n"
          ]
        }
      ]
    },
    {
      "cell_type": "code",
      "source": [],
      "metadata": {
        "id": "f-frxFTIS8nj"
      },
      "execution_count": null,
      "outputs": []
    }
  ]
}