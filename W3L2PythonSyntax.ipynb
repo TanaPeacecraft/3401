{
 "cells": [
  {
   "cell_type": "markdown",
   "id": "1d809773",
   "metadata": {},
   "source": [
    "### 1.Write a sentence where one word is in bold and another is in italics."
   ]
  },
  {
   "cell_type": "markdown",
   "id": "b81a769c",
   "metadata": {},
   "source": [
    "It's *you*, it's **me** - it's us."
   ]
  },
  {
   "cell_type": "markdown",
   "id": "880fdc0f",
   "metadata": {},
   "source": [
    "### 2.Create a hierarchy of headers from # (largest) to ### (smallest). Make up titles for each header level."
   ]
  },
  {
   "cell_type": "markdown",
   "id": "80b35c2e",
   "metadata": {},
   "source": [
    "# Misborn by Brandon Sanderson\n",
    "## The Well of Acension by Brandon Sanderson\n",
    "### The Hero of Ages by Brandon Sanderson"
   ]
  },
  {
   "cell_type": "markdown",
   "id": "04e819a7",
   "metadata": {},
   "source": [
    "### 3. Create a bulleted list of your three favorite fruits \n"
   ]
  },
  {
   "cell_type": "markdown",
   "id": "67514119",
   "metadata": {},
   "source": [
    "- Strawberry\n",
    "- Pineapple\n",
    "- Coconut"
   ]
  },
  {
   "cell_type": "markdown",
   "id": "41a962ff",
   "metadata": {},
   "source": [
    "---"
   ]
  },
  {
   "cell_type": "markdown",
   "id": "c37b400e",
   "metadata": {},
   "source": [
    "# Variable Assignment\n",
    "\n",
    "\n"
   ]
  },
  {
   "cell_type": "markdown",
   "id": "5adb15eb",
   "metadata": {},
   "source": [
    "### Assign the number 5 to a variable named a."
   ]
  },
  {
   "cell_type": "code",
   "execution_count": 5,
   "id": "369d6f2a",
   "metadata": {},
   "outputs": [],
   "source": [
    "a=5"
   ]
  },
  {
   "cell_type": "code",
   "execution_count": 6,
   "id": "26e9e75f",
   "metadata": {},
   "outputs": [
    {
     "name": "stdout",
     "output_type": "stream",
     "text": [
      "5\n"
     ]
    }
   ],
   "source": [
    "print(a)"
   ]
  },
  {
   "cell_type": "markdown",
   "id": "34524506",
   "metadata": {},
   "source": [
    "### Assign the number 10 to a variable named b."
   ]
  },
  {
   "cell_type": "code",
   "execution_count": 7,
   "id": "e1b20147",
   "metadata": {},
   "outputs": [],
   "source": [
    "b=10"
   ]
  },
  {
   "cell_type": "code",
   "execution_count": 8,
   "id": "70f2c735",
   "metadata": {},
   "outputs": [
    {
     "name": "stdout",
     "output_type": "stream",
     "text": [
      "10\n"
     ]
    }
   ],
   "source": [
    "print(b)"
   ]
  },
  {
   "cell_type": "markdown",
   "id": "cd5cd2a7",
   "metadata": {},
   "source": [
    "### Compute the sum of \"a\" and \"b\" and assign it to a variable named \"c\". Print out the value of \"c\""
   ]
  },
  {
   "cell_type": "code",
   "execution_count": 11,
   "id": "be3e47cd",
   "metadata": {},
   "outputs": [
    {
     "data": {
      "text/plain": [
       "15"
      ]
     },
     "execution_count": 11,
     "metadata": {},
     "output_type": "execute_result"
    }
   ],
   "source": [
    "a+b"
   ]
  },
  {
   "cell_type": "code",
   "execution_count": 12,
   "id": "3fef25cc",
   "metadata": {},
   "outputs": [],
   "source": [
    "c=15"
   ]
  },
  {
   "cell_type": "code",
   "execution_count": 13,
   "id": "ffd56b2f",
   "metadata": {},
   "outputs": [
    {
     "name": "stdout",
     "output_type": "stream",
     "text": [
      "15\n"
     ]
    }
   ],
   "source": [
    "print(c)"
   ]
  },
  {
   "cell_type": "markdown",
   "id": "d2a76a9f",
   "metadata": {},
   "source": [
    "### PEMDAS"
   ]
  },
  {
   "attachments": {},
   "cell_type": "markdown",
   "id": "114ed6f3",
   "metadata": {},
   "source": [
    "#### Given the equation: 6+2*(5-3^2)+4/26+2*(5-32)+4/2\n",
    "\n",
    "##### Solve the equation step-by-step, following the PEMDAS order, and comment each step in the Jupyter cell"
   ]
  },
  {
   "cell_type": "markdown",
   "id": "e88f08cb",
   "metadata": {},
   "source": [
    "(5-3^2) = -4\n",
    "\n",
    "- Configure exponent for 3^2 and subtract it FROM 5\n",
    "- PARENTHESIS first"
   ]
  },
  {
   "cell_type": "markdown",
   "id": "e7d2e186",
   "metadata": {},
   "source": [
    "(5-32) = -27\n",
    "\n",
    "- 5 minus 7 "
   ]
  },
  {
   "cell_type": "markdown",
   "id": "0e09a5c0",
   "metadata": {},
   "source": [
    "6+2(5-9)+4/26+2(27)+2\n",
    "- Calculate and multiply"
   ]
  },
  {
   "cell_type": "markdown",
   "id": "16b80529",
   "metadata": {},
   "source": [
    "6+2(-4)+4/26-54+2\n",
    "- Multiply the remaining numbers, following PEMDAS"
   ]
  },
  {
   "cell_type": "markdown",
   "id": "7a277ef5",
   "metadata": {},
   "source": [
    "6-8+4/26-54+2\n",
    "- Calculate by adding 8+4/26, add 2, subtract 6 from the remaining result, and then subtract 54"
   ]
  },
  {
   "cell_type": "markdown",
   "id": "7e1b90e3",
   "metadata": {},
   "source": [
    "54+4/26\n",
    "- Calculate by adding by finding common denimnator."
   ]
  },
  {
   "cell_type": "markdown",
   "id": "085ffed2",
   "metadata": {},
   "source": [
    "#### Compute the final answer using Python and display the result."
   ]
  },
  {
   "cell_type": "code",
   "execution_count": 21,
   "id": "f35bbeab",
   "metadata": {},
   "outputs": [],
   "source": [
    "result=6+2*(5-3^2)+4/26+2*(5-32)+4/2"
   ]
  },
  {
   "cell_type": "code",
   "execution_count": 19,
   "id": "b94d3dd5",
   "metadata": {},
   "outputs": [
    {
     "data": {
      "text/plain": [
       "-53.84615384615385"
      ]
     },
     "execution_count": 19,
     "metadata": {},
     "output_type": "execute_result"
    }
   ],
   "source": [
    "result"
   ]
  }
 ],
 "metadata": {
  "kernelspec": {
   "display_name": "Python 3 (ipykernel)",
   "language": "python",
   "name": "python3"
  },
  "language_info": {
   "codemirror_mode": {
    "name": "ipython",
    "version": 3
   },
   "file_extension": ".py",
   "mimetype": "text/x-python",
   "name": "python",
   "nbconvert_exporter": "python",
   "pygments_lexer": "ipython3",
   "version": "3.11.4"
  }
 },
 "nbformat": 4,
 "nbformat_minor": 5
}
