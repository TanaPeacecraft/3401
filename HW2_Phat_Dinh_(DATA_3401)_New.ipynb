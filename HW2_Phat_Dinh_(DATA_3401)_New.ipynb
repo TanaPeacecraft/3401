{
  "nbformat": 4,
  "nbformat_minor": 0,
  "metadata": {
    "colab": {
      "provenance": [],
      "authorship_tag": "ABX9TyNifd25XXkPF7XaSmGJmkrr",
      "include_colab_link": true
    },
    "kernelspec": {
      "name": "python3",
      "display_name": "Python 3"
    },
    "language_info": {
      "name": "python"
    }
  },
  "cells": [
    {
      "cell_type": "markdown",
      "metadata": {
        "id": "view-in-github",
        "colab_type": "text"
      },
      "source": [
        "<a href=\"https://colab.research.google.com/github/UTA-PYTHON/3401/blob/main/HW2_Phat_Dinh_(DATA_3401)_New.ipynb\" target=\"_parent\"><img src=\"https://colab.research.google.com/assets/colab-badge.svg\" alt=\"Open In Colab\"/></a>"
      ]
    },
    {
      "cell_type": "markdown",
      "source": [
        "# **Part 1: Markdown in Jupyter Notebook**"
      ],
      "metadata": {
        "id": "AWtmCgX-GZk1"
      }
    },
    {
      "cell_type": "markdown",
      "source": [
        "1. **Bold and Italics**\n",
        "\n",
        " Write a sentence where one word is in bold and another is in italics.\n",
        "\n",
        " This **class** is *amazing*\n"
      ],
      "metadata": {
        "id": "BkjbOdERFm2P"
      }
    },
    {
      "cell_type": "markdown",
      "source": [
        "2. **Headers**\n",
        "\n",
        "Create a hierarchy of headers from # (largest) to ### (smallest). Make up titles for each header level.\n",
        "# Course: DATA-3401\n",
        "## Section: 001\n",
        "### Professor: Masoud Rostami"
      ],
      "metadata": {
        "id": "o6dGzrayF8s6"
      }
    },
    {
      "cell_type": "markdown",
      "source": [
        "3. **Lists**\n",
        "\n",
        "Create a bulleted list of your three favorite fruits\n",
        "- Mangosteen\n",
        "- Lychee\n",
        "- Pinapple"
      ],
      "metadata": {
        "id": "2KxzCu7aGJoX"
      }
    },
    {
      "cell_type": "markdown",
      "source": [
        "___"
      ],
      "metadata": {
        "id": "fVOcb8pnG7KH"
      }
    },
    {
      "cell_type": "markdown",
      "source": [
        "# **Part 2: Python Basics**"
      ],
      "metadata": {
        "id": "DEWOQXPiGV7u"
      }
    },
    {
      "cell_type": "markdown",
      "source": [
        "1. **Variable Assignment**\n",
        "\n",
        "Assign the number 5 to a variable named a"
      ],
      "metadata": {
        "id": "o4QkGt_fGiY1"
      }
    },
    {
      "cell_type": "code",
      "source": [
        "a=5"
      ],
      "metadata": {
        "id": "THF-Uji0HZ8h"
      },
      "execution_count": null,
      "outputs": []
    },
    {
      "cell_type": "markdown",
      "source": [
        "Assign the number 10 to a variable named b."
      ],
      "metadata": {
        "id": "zCg0kvp3HnBJ"
      }
    },
    {
      "cell_type": "code",
      "source": [
        "b=10"
      ],
      "metadata": {
        "id": "b2wmm5xxHriX"
      },
      "execution_count": null,
      "outputs": []
    },
    {
      "cell_type": "markdown",
      "source": [
        "Compute the sum of a and b and assign it to a variable named c. Print out the value of c."
      ],
      "metadata": {
        "id": "j79Xc0l-Htbp"
      }
    },
    {
      "cell_type": "code",
      "source": [
        "c=a+b"
      ],
      "metadata": {
        "id": "d2qtN0ZvH2W6"
      },
      "execution_count": null,
      "outputs": []
    },
    {
      "cell_type": "code",
      "source": [
        "print(c)"
      ],
      "metadata": {
        "colab": {
          "base_uri": "https://localhost:8080/"
        },
        "id": "J08zOn9gH6aw",
        "outputId": "5211bced-1acc-444c-c828-d4b7b1dce5eb"
      },
      "execution_count": null,
      "outputs": [
        {
          "output_type": "stream",
          "name": "stdout",
          "text": [
            "15\n"
          ]
        }
      ]
    },
    {
      "cell_type": "markdown",
      "source": [
        "2. **PEMDAS**"
      ],
      "metadata": {
        "id": "CsLoUObPH_9s"
      }
    },
    {
      "cell_type": "markdown",
      "source": [
        "Given the equation 6+2*(5-3^2)+4/26+2*(5-32)+4/2"
      ],
      "metadata": {
        "id": "s4SzGjDfIO_9"
      }
    },
    {
      "cell_type": "markdown",
      "source": [
        "- Solve the equation step-by-step, following the PEMDAS order, and comment each step in the Jupyter cell."
      ],
      "metadata": {
        "id": "b9JOewMrInFu"
      }
    },
    {
      "cell_type": "code",
      "source": [
        "3**2"
      ],
      "metadata": {
        "colab": {
          "base_uri": "https://localhost:8080/"
        },
        "id": "EQQ9SenzIu_f",
        "outputId": "96d694e7-e691-4641-81bf-f24819afd0ae"
      },
      "execution_count": null,
      "outputs": [
        {
          "output_type": "execute_result",
          "data": {
            "text/plain": [
              "9"
            ]
          },
          "metadata": {},
          "execution_count": 10
        }
      ]
    },
    {
      "cell_type": "code",
      "source": [
        "5-9"
      ],
      "metadata": {
        "colab": {
          "base_uri": "https://localhost:8080/"
        },
        "id": "GCDjH7RJJfCA",
        "outputId": "a2aee108-f0ac-4a65-afd2-2f45f8fc28db"
      },
      "execution_count": null,
      "outputs": [
        {
          "output_type": "execute_result",
          "data": {
            "text/plain": [
              "-4"
            ]
          },
          "metadata": {},
          "execution_count": 11
        }
      ]
    },
    {
      "cell_type": "code",
      "source": [
        "5-32"
      ],
      "metadata": {
        "colab": {
          "base_uri": "https://localhost:8080/"
        },
        "id": "DZE0jbDAJg8H",
        "outputId": "cc8ed502-6816-49e9-dfff-3ee35f4dabcb"
      },
      "execution_count": null,
      "outputs": [
        {
          "output_type": "execute_result",
          "data": {
            "text/plain": [
              "-27"
            ]
          },
          "metadata": {},
          "execution_count": 12
        }
      ]
    },
    {
      "cell_type": "code",
      "source": [
        "2*(-4)"
      ],
      "metadata": {
        "colab": {
          "base_uri": "https://localhost:8080/"
        },
        "id": "2bcc0nNkJm0Z",
        "outputId": "fa6b80b7-6cc0-4b0e-fba1-7658795fe840"
      },
      "execution_count": null,
      "outputs": [
        {
          "output_type": "execute_result",
          "data": {
            "text/plain": [
              "-8"
            ]
          },
          "metadata": {},
          "execution_count": 13
        }
      ]
    },
    {
      "cell_type": "code",
      "source": [
        "4/26"
      ],
      "metadata": {
        "colab": {
          "base_uri": "https://localhost:8080/"
        },
        "id": "5y0LCDfCJs3U",
        "outputId": "a915691c-7ab0-4dcd-fdde-fb19bd08256d"
      },
      "execution_count": null,
      "outputs": [
        {
          "output_type": "execute_result",
          "data": {
            "text/plain": [
              "0.15384615384615385"
            ]
          },
          "metadata": {},
          "execution_count": 14
        }
      ]
    },
    {
      "cell_type": "code",
      "source": [
        "2*(-27)"
      ],
      "metadata": {
        "colab": {
          "base_uri": "https://localhost:8080/"
        },
        "id": "arn6tpbIJxCJ",
        "outputId": "531eae1f-fec5-4fb7-e002-e2bedde68e23"
      },
      "execution_count": null,
      "outputs": [
        {
          "output_type": "execute_result",
          "data": {
            "text/plain": [
              "-54"
            ]
          },
          "metadata": {},
          "execution_count": 15
        }
      ]
    },
    {
      "cell_type": "code",
      "source": [
        "4/2"
      ],
      "metadata": {
        "colab": {
          "base_uri": "https://localhost:8080/"
        },
        "id": "mbR4UZa3J3aX",
        "outputId": "657b7a4c-5543-4f33-a777-4737488a6ed4"
      },
      "execution_count": null,
      "outputs": [
        {
          "output_type": "execute_result",
          "data": {
            "text/plain": [
              "2.0"
            ]
          },
          "metadata": {},
          "execution_count": 16
        }
      ]
    },
    {
      "cell_type": "code",
      "source": [
        "6+(-8)+0.15384615384615385+(-54)+2"
      ],
      "metadata": {
        "colab": {
          "base_uri": "https://localhost:8080/"
        },
        "id": "aOO_JUOvJ4p4",
        "outputId": "992462c2-c33c-4cc6-9cdd-8dd54a3bbe0b"
      },
      "execution_count": null,
      "outputs": [
        {
          "output_type": "execute_result",
          "data": {
            "text/plain": [
              "-53.84615384615385"
            ]
          },
          "metadata": {},
          "execution_count": 17
        }
      ]
    },
    {
      "cell_type": "markdown",
      "source": [
        "- Compute the final answer using Python and display the result."
      ],
      "metadata": {
        "id": "XTE50KCpKBZ_"
      }
    },
    {
      "cell_type": "code",
      "source": [
        "6+2*(5-3**2)+4/26+2*(5-32)+4/2"
      ],
      "metadata": {
        "colab": {
          "base_uri": "https://localhost:8080/"
        },
        "id": "617p9UtLKMrl",
        "outputId": "de0bcba2-f599-4552-83b2-eb3cb5dc61ec"
      },
      "execution_count": null,
      "outputs": [
        {
          "output_type": "execute_result",
          "data": {
            "text/plain": [
              "-53.84615384615385"
            ]
          },
          "metadata": {},
          "execution_count": 18
        }
      ]
    },
    {
      "cell_type": "code",
      "source": [],
      "metadata": {
        "id": "x08LbjEqKY2-"
      },
      "execution_count": null,
      "outputs": []
    }
  ]
}