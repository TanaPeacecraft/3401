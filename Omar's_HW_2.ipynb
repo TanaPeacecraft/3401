{
  "nbformat": 4,
  "nbformat_minor": 0,
  "metadata": {
    "colab": {
      "provenance": [],
      "authorship_tag": "ABX9TyN/Wqr6JjtpWE/IEQaPa0nq",
      "include_colab_link": true
    },
    "kernelspec": {
      "name": "python3",
      "display_name": "Python 3"
    },
    "language_info": {
      "name": "python"
    }
  },
  "cells": [
    {
      "cell_type": "markdown",
      "metadata": {
        "id": "view-in-github",
        "colab_type": "text"
      },
      "source": [
        "<a href=\"https://colab.research.google.com/github/UTA-PYTHON/3401/blob/main/Omar's_HW_2.ipynb\" target=\"_parent\"><img src=\"https://colab.research.google.com/assets/colab-badge.svg\" alt=\"Open In Colab\"/></a>"
      ]
    },
    {
      "cell_type": "markdown",
      "source": [
        "Bold and Italics"
      ],
      "metadata": {
        "id": "lytGnTRLlv-z"
      }
    },
    {
      "cell_type": "code",
      "execution_count": null,
      "metadata": {
        "colab": {
          "base_uri": "https://localhost:8080/"
        },
        "id": "9ZweNnbWen1s",
        "outputId": "8ed6181e-06b1-43a2-c0e1-5aff4d890cd7"
      },
      "outputs": [
        {
          "output_type": "stream",
          "name": "stdout",
          "text": [
            "This is\u001b[3m italized\u001b[0m and this is\u001b[1m bold\u001b[0m\n"
          ]
        }
      ],
      "source": [
        "\n",
        "italic_text = \"This is\\x1B[3m italized\\x1B[0m and this is\\x1B[1m bold\\x1B[0m\"\n",
        "print(italic_text)"
      ]
    },
    {
      "cell_type": "markdown",
      "source": [
        "Headers"
      ],
      "metadata": {
        "id": "W3FVzgZQl6Bh"
      }
    },
    {
      "cell_type": "code",
      "source": [
        "header_titles = {\n",
        "    1: \"Main Section\",\n",
        "    2: \"Subsection A\",\n",
        "    3: \"Subsection B\",\n",
        "    4: \"Subsection C\",\n",
        "}\n",
        "\n",
        "for level in range(1, 5):\n",
        "    header = \"#\" * level\n",
        "    title = header_titles.get(level, \"Undefined Title\")\n",
        "    print(f\"{header} {title}\")\n"
      ],
      "metadata": {
        "colab": {
          "base_uri": "https://localhost:8080/"
        },
        "id": "CgqpBd0Al6Ko",
        "outputId": "01d376a0-a4ad-4d94-bd6a-18910848df7e"
      },
      "execution_count": null,
      "outputs": [
        {
          "output_type": "stream",
          "name": "stdout",
          "text": [
            "# Main Section\n",
            "## Subsection A\n",
            "### Subsection B\n",
            "#### Subsection C\n"
          ]
        }
      ]
    },
    {
      "cell_type": "markdown",
      "source": [
        "Lists\n"
      ],
      "metadata": {
        "id": "wF2asIubl6bV"
      }
    },
    {
      "cell_type": "code",
      "source": [
        "items = [\"watermelons\", \"blueberries\", \"pineapples\"]\n",
        "\n",
        "for item in items:\n",
        "    print(f\"• {item}\")\n"
      ],
      "metadata": {
        "colab": {
          "base_uri": "https://localhost:8080/"
        },
        "id": "qpDEt64Il6jX",
        "outputId": "37d28067-dd57-476d-9bb7-860e7f2ca3e4"
      },
      "execution_count": null,
      "outputs": [
        {
          "output_type": "stream",
          "name": "stdout",
          "text": [
            "• watermelons\n",
            "• blueberries\n",
            "• pineapples\n"
          ]
        }
      ]
    },
    {
      "cell_type": "markdown",
      "source": [
        "Variable Assignment"
      ],
      "metadata": {
        "id": "oo19Mee0l6rg"
      }
    },
    {
      "cell_type": "code",
      "source": [
        "a = 5\n",
        "b = 10\n",
        "c = a + b\n",
        "\n",
        "print(c)\n"
      ],
      "metadata": {
        "colab": {
          "base_uri": "https://localhost:8080/"
        },
        "id": "wsmHOvYzmGXG",
        "outputId": "7401dfa0-2bdd-436d-d271-25cb40d49973"
      },
      "execution_count": null,
      "outputs": [
        {
          "output_type": "stream",
          "name": "stdout",
          "text": [
            "15\n"
          ]
        }
      ]
    },
    {
      "cell_type": "markdown",
      "source": [
        "PEMDAS"
      ],
      "metadata": {
        "id": "h2k8pVVRmG7O"
      }
    },
    {
      "cell_type": "code",
      "source": [
        "\n",
        "# 3^2 = 9,\n",
        "# 5 - 9 = -4\n",
        "# 6 + 2*(-4) + 4/2\n",
        "# 2 * (-4) = -8\n",
        "# 4/2 = 2\n",
        "# 6 - 8 + 2\n",
        "# 6 - 8 = -2\n",
        "# -2 + 2 = 0\n",
        "# The final answer is 0.\n",
        "\n",
        "result = 6 + 2 * (5 - 3**2) + 4/2\n",
        "result\n"
      ],
      "metadata": {
        "colab": {
          "base_uri": "https://localhost:8080/"
        },
        "id": "N--0elrtmHKK",
        "outputId": "5a9419d9-9b93-4d7c-851b-ab129167b1e8"
      },
      "execution_count": null,
      "outputs": [
        {
          "output_type": "execute_result",
          "data": {
            "text/plain": [
              "0.0"
            ]
          },
          "metadata": {},
          "execution_count": 16
        }
      ]
    }
  ]
}